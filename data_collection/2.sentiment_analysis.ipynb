{
 "cells": [
  {
   "attachments": {},
   "cell_type": "markdown",
   "metadata": {},
   "source": [
    "# Pre-processing"
   ]
  },
  {
   "cell_type": "code",
   "execution_count": 1,
   "metadata": {},
   "outputs": [],
   "source": [
    "import pandas as pd\n",
    "import nltk\n",
    "from nltk.sentiment.vader import SentimentIntensityAnalyzer\n",
    "import matplotlib.pyplot as plt"
   ]
  },
  {
   "cell_type": "code",
   "execution_count": 2,
   "metadata": {},
   "outputs": [
    {
     "data": {
      "text/html": [
       "<div>\n",
       "<style scoped>\n",
       "    .dataframe tbody tr th:only-of-type {\n",
       "        vertical-align: middle;\n",
       "    }\n",
       "\n",
       "    .dataframe tbody tr th {\n",
       "        vertical-align: top;\n",
       "    }\n",
       "\n",
       "    .dataframe thead th {\n",
       "        text-align: right;\n",
       "    }\n",
       "</style>\n",
       "<table border=\"1\" class=\"dataframe\">\n",
       "  <thead>\n",
       "    <tr style=\"text-align: right;\">\n",
       "      <th></th>\n",
       "      <th>Unnamed: 0</th>\n",
       "      <th>Page</th>\n",
       "      <th>Category</th>\n",
       "      <th>Links</th>\n",
       "      <th>Text</th>\n",
       "    </tr>\n",
       "  </thead>\n",
       "  <tbody>\n",
       "    <tr>\n",
       "      <th>0</th>\n",
       "      <td>0</td>\n",
       "      <td>Field trip</td>\n",
       "      <td>Education</td>\n",
       "      <td>['American Association of School Administrator...</td>\n",
       "      <td>['A field trip or excursion is a journey by a ...</td>\n",
       "    </tr>\n",
       "    <tr>\n",
       "      <th>1</th>\n",
       "      <td>1</td>\n",
       "      <td>Education in emergencies and conflict areas</td>\n",
       "      <td>Education</td>\n",
       "      <td>['Adult', 'Armed conflict', 'Asylum seeker', '...</td>\n",
       "      <td>[\"Education in emergencies and conflict areas ...</td>\n",
       "    </tr>\n",
       "    <tr>\n",
       "      <th>2</th>\n",
       "      <td>2</td>\n",
       "      <td>Ability grouping</td>\n",
       "      <td>Education</td>\n",
       "      <td>['Academic achievement', 'Classroom', 'Cluster...</td>\n",
       "      <td>['Ability grouping is the educational practice...</td>\n",
       "    </tr>\n",
       "    <tr>\n",
       "      <th>3</th>\n",
       "      <td>3</td>\n",
       "      <td>Classwide Peer Tutoring</td>\n",
       "      <td>Education</td>\n",
       "      <td>['ADHD', 'Active learning', 'Cardio-pulmonary ...</td>\n",
       "      <td>['Classwide Peer Tutoring (CWPT) is a variatio...</td>\n",
       "    </tr>\n",
       "    <tr>\n",
       "      <th>4</th>\n",
       "      <td>5</td>\n",
       "      <td>Flexible learning</td>\n",
       "      <td>Education</td>\n",
       "      <td>['Australia', 'Blended learning', 'Distance ed...</td>\n",
       "      <td>['Flexible learning is a principle of practice...</td>\n",
       "    </tr>\n",
       "  </tbody>\n",
       "</table>\n",
       "</div>"
      ],
      "text/plain": [
       "   Unnamed: 0                                         Page   Category  \\\n",
       "0           0                                   Field trip  Education   \n",
       "1           1  Education in emergencies and conflict areas  Education   \n",
       "2           2                             Ability grouping  Education   \n",
       "3           3                      Classwide Peer Tutoring  Education   \n",
       "4           5                            Flexible learning  Education   \n",
       "\n",
       "                                               Links  \\\n",
       "0  ['American Association of School Administrator...   \n",
       "1  ['Adult', 'Armed conflict', 'Asylum seeker', '...   \n",
       "2  ['Academic achievement', 'Classroom', 'Cluster...   \n",
       "3  ['ADHD', 'Active learning', 'Cardio-pulmonary ...   \n",
       "4  ['Australia', 'Blended learning', 'Distance ed...   \n",
       "\n",
       "                                                Text  \n",
       "0  ['A field trip or excursion is a journey by a ...  \n",
       "1  [\"Education in emergencies and conflict areas ...  \n",
       "2  ['Ability grouping is the educational practice...  \n",
       "3  ['Classwide Peer Tutoring (CWPT) is a variatio...  \n",
       "4  ['Flexible learning is a principle of practice...  "
      ]
     },
     "execution_count": 2,
     "metadata": {},
     "output_type": "execute_result"
    }
   ],
   "source": [
    "df = pd.read_csv('./data/dataset.csv')\n",
    "\n",
    "df.head()"
   ]
  },
  {
   "attachments": {},
   "cell_type": "markdown",
   "metadata": {},
   "source": [
    "# Creating classifier"
   ]
  },
  {
   "cell_type": "code",
   "execution_count": 3,
   "metadata": {},
   "outputs": [
    {
     "name": "stderr",
     "output_type": "stream",
     "text": [
      "[nltk_data] Downloading package vader_lexicon to\n",
      "[nltk_data]     /Users/mario/nltk_data...\n",
      "[nltk_data]   Package vader_lexicon is already up-to-date!\n"
     ]
    },
    {
     "data": {
      "text/plain": [
       "{'neg': 0.325, 'neu': 0.549, 'pos': 0.125, 'compound': -0.5499}"
      ]
     },
     "execution_count": 3,
     "metadata": {},
     "output_type": "execute_result"
    }
   ],
   "source": [
    "# Creating lexicon\n",
    "nltk.download('vader_lexicon')\n",
    "\n",
    "# Sentiment Analysis function\n",
    "vader = SentimentIntensityAnalyzer()\n",
    "\n",
    "# Example\n",
    "vader.polarity_scores('the battery is ok, but the screen is terrible')"
   ]
  },
  {
   "attachments": {},
   "cell_type": "markdown",
   "metadata": {},
   "source": [
    "# Applying weak-labeling"
   ]
  },
  {
   "cell_type": "code",
   "execution_count": 4,
   "metadata": {},
   "outputs": [
    {
     "data": {
      "text/html": [
       "<div>\n",
       "<style scoped>\n",
       "    .dataframe tbody tr th:only-of-type {\n",
       "        vertical-align: middle;\n",
       "    }\n",
       "\n",
       "    .dataframe tbody tr th {\n",
       "        vertical-align: top;\n",
       "    }\n",
       "\n",
       "    .dataframe thead th {\n",
       "        text-align: right;\n",
       "    }\n",
       "</style>\n",
       "<table border=\"1\" class=\"dataframe\">\n",
       "  <thead>\n",
       "    <tr style=\"text-align: right;\">\n",
       "      <th></th>\n",
       "      <th>Unnamed: 0</th>\n",
       "      <th>Page</th>\n",
       "      <th>Category</th>\n",
       "      <th>Links</th>\n",
       "      <th>Text</th>\n",
       "      <th>Score</th>\n",
       "    </tr>\n",
       "  </thead>\n",
       "  <tbody>\n",
       "    <tr>\n",
       "      <th>0</th>\n",
       "      <td>0</td>\n",
       "      <td>Field trip</td>\n",
       "      <td>Education</td>\n",
       "      <td>['American Association of School Administrator...</td>\n",
       "      <td>['A field trip or excursion is a journey by a ...</td>\n",
       "      <td>0.9837</td>\n",
       "    </tr>\n",
       "    <tr>\n",
       "      <th>1</th>\n",
       "      <td>1</td>\n",
       "      <td>Education in emergencies and conflict areas</td>\n",
       "      <td>Education</td>\n",
       "      <td>['Adult', 'Armed conflict', 'Asylum seeker', '...</td>\n",
       "      <td>[\"Education in emergencies and conflict areas ...</td>\n",
       "      <td>-0.9356</td>\n",
       "    </tr>\n",
       "    <tr>\n",
       "      <th>2</th>\n",
       "      <td>2</td>\n",
       "      <td>Ability grouping</td>\n",
       "      <td>Education</td>\n",
       "      <td>['Academic achievement', 'Classroom', 'Cluster...</td>\n",
       "      <td>['Ability grouping is the educational practice...</td>\n",
       "      <td>0.9931</td>\n",
       "    </tr>\n",
       "    <tr>\n",
       "      <th>3</th>\n",
       "      <td>3</td>\n",
       "      <td>Classwide Peer Tutoring</td>\n",
       "      <td>Education</td>\n",
       "      <td>['ADHD', 'Active learning', 'Cardio-pulmonary ...</td>\n",
       "      <td>['Classwide Peer Tutoring (CWPT) is a variatio...</td>\n",
       "      <td>0.9960</td>\n",
       "    </tr>\n",
       "    <tr>\n",
       "      <th>4</th>\n",
       "      <td>5</td>\n",
       "      <td>Flexible learning</td>\n",
       "      <td>Education</td>\n",
       "      <td>['Australia', 'Blended learning', 'Distance ed...</td>\n",
       "      <td>['Flexible learning is a principle of practice...</td>\n",
       "      <td>0.7579</td>\n",
       "    </tr>\n",
       "  </tbody>\n",
       "</table>\n",
       "</div>"
      ],
      "text/plain": [
       "   Unnamed: 0                                         Page   Category  \\\n",
       "0           0                                   Field trip  Education   \n",
       "1           1  Education in emergencies and conflict areas  Education   \n",
       "2           2                             Ability grouping  Education   \n",
       "3           3                      Classwide Peer Tutoring  Education   \n",
       "4           5                            Flexible learning  Education   \n",
       "\n",
       "                                               Links  \\\n",
       "0  ['American Association of School Administrator...   \n",
       "1  ['Adult', 'Armed conflict', 'Asylum seeker', '...   \n",
       "2  ['Academic achievement', 'Classroom', 'Cluster...   \n",
       "3  ['ADHD', 'Active learning', 'Cardio-pulmonary ...   \n",
       "4  ['Australia', 'Blended learning', 'Distance ed...   \n",
       "\n",
       "                                                Text   Score  \n",
       "0  ['A field trip or excursion is a journey by a ...  0.9837  \n",
       "1  [\"Education in emergencies and conflict areas ... -0.9356  \n",
       "2  ['Ability grouping is the educational practice...  0.9931  \n",
       "3  ['Classwide Peer Tutoring (CWPT) is a variatio...  0.9960  \n",
       "4  ['Flexible learning is a principle of practice...  0.7579  "
      ]
     },
     "execution_count": 4,
     "metadata": {},
     "output_type": "execute_result"
    }
   ],
   "source": [
    "# Getting compound score for each text\n",
    "\n",
    "scores = []\n",
    "for e in df['Text']:\n",
    "    cp = vader.polarity_scores(e)\n",
    "    scores.append(cp['compound'])\n",
    "\n",
    "df['Score'] = scores\n",
    "\n",
    "df.head()"
   ]
  },
  {
   "cell_type": "code",
   "execution_count": 5,
   "metadata": {},
   "outputs": [
    {
     "data": {
      "text/plain": [
       "Text(0.5, 1.0, 'Sentiment score')"
      ]
     },
     "execution_count": 5,
     "metadata": {},
     "output_type": "execute_result"
    },
    {
     "data": {
      "image/png": "[encoded data removed]",
      "text/plain": [
       "<Figure size 640x480 with 1 Axes>"
      ]
     },
     "metadata": {},
     "output_type": "display_data"
    }
   ],
   "source": [
    "# Plotting scores\n",
    "plt.hist(df['Score'])\n",
    "plt.title('Sentiment score')"
   ]
  },
  {
   "cell_type": "code",
   "execution_count": 6,
   "metadata": {},
   "outputs": [],
   "source": [
    "df.to_csv('./data/dataset_sentiment.csv')"
   ]
  }
 ],
 "metadata": {
  "kernelspec": {
   "display_name": "base",
   "language": "python",
   "name": "python3"
  },
  "language_info": {
   "codemirror_mode": {
    "name": "ipython",
    "version": 3
   },
   "file_extension": ".py",
   "mimetype": "text/x-python",
   "name": "python",
   "nbconvert_exporter": "python",
   "pygments_lexer": "ipython3",
   "version": "3.9.12"
  },
  "orig_nbformat": 4
 },
 "nbformat": 4,
 "nbformat_minor": 2
}
