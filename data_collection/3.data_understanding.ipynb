{
 "cells": [
  {
   "cell_type": "code",
   "execution_count": 1,
   "metadata": {},
   "outputs": [],
   "source": [
    "import pandas as pd\n",
    "import matplotlib.pyplot as plt\n",
    "import seaborn as sns"
   ]
  },
  {
   "cell_type": "code",
   "execution_count": 2,
   "metadata": {},
   "outputs": [
    {
     "data": {
      "text/html": [
       "<div>\n",
       "<style scoped>\n",
       "    .dataframe tbody tr th:only-of-type {\n",
       "        vertical-align: middle;\n",
       "    }\n",
       "\n",
       "    .dataframe tbody tr th {\n",
       "        vertical-align: top;\n",
       "    }\n",
       "\n",
       "    .dataframe thead th {\n",
       "        text-align: right;\n",
       "    }\n",
       "</style>\n",
       "<table border=\"1\" class=\"dataframe\">\n",
       "  <thead>\n",
       "    <tr style=\"text-align: right;\">\n",
       "      <th></th>\n",
       "      <th>Page</th>\n",
       "      <th>Category</th>\n",
       "      <th>Links</th>\n",
       "      <th>Text</th>\n",
       "      <th>Score</th>\n",
       "    </tr>\n",
       "  </thead>\n",
       "  <tbody>\n",
       "    <tr>\n",
       "      <th>0</th>\n",
       "      <td>Field trip</td>\n",
       "      <td>Education</td>\n",
       "      <td>['American Association of School Administrator...</td>\n",
       "      <td>['A field trip or excursion is a journey by a ...</td>\n",
       "      <td>0.9837</td>\n",
       "    </tr>\n",
       "    <tr>\n",
       "      <th>1</th>\n",
       "      <td>Education in emergencies and conflict areas</td>\n",
       "      <td>Education</td>\n",
       "      <td>['Adult', 'Armed conflict', 'Asylum seeker', '...</td>\n",
       "      <td>[\"Education in emergencies and conflict areas ...</td>\n",
       "      <td>-0.9356</td>\n",
       "    </tr>\n",
       "    <tr>\n",
       "      <th>2</th>\n",
       "      <td>Ability grouping</td>\n",
       "      <td>Education</td>\n",
       "      <td>['Academic achievement', 'Classroom', 'Cluster...</td>\n",
       "      <td>['Ability grouping is the educational practice...</td>\n",
       "      <td>0.9931</td>\n",
       "    </tr>\n",
       "    <tr>\n",
       "      <th>3</th>\n",
       "      <td>Classwide Peer Tutoring</td>\n",
       "      <td>Education</td>\n",
       "      <td>['ADHD', 'Active learning', 'Cardio-pulmonary ...</td>\n",
       "      <td>['Classwide Peer Tutoring (CWPT) is a variatio...</td>\n",
       "      <td>0.9960</td>\n",
       "    </tr>\n",
       "    <tr>\n",
       "      <th>4</th>\n",
       "      <td>Flexible learning</td>\n",
       "      <td>Education</td>\n",
       "      <td>['Australia', 'Blended learning', 'Distance ed...</td>\n",
       "      <td>['Flexible learning is a principle of practice...</td>\n",
       "      <td>0.7579</td>\n",
       "    </tr>\n",
       "  </tbody>\n",
       "</table>\n",
       "</div>"
      ],
      "text/plain": [
       "                                          Page   Category  \\\n",
       "0                                   Field trip  Education   \n",
       "1  Education in emergencies and conflict areas  Education   \n",
       "2                             Ability grouping  Education   \n",
       "3                      Classwide Peer Tutoring  Education   \n",
       "4                            Flexible learning  Education   \n",
       "\n",
       "                                               Links  \\\n",
       "0  ['American Association of School Administrator...   \n",
       "1  ['Adult', 'Armed conflict', 'Asylum seeker', '...   \n",
       "2  ['Academic achievement', 'Classroom', 'Cluster...   \n",
       "3  ['ADHD', 'Active learning', 'Cardio-pulmonary ...   \n",
       "4  ['Australia', 'Blended learning', 'Distance ed...   \n",
       "\n",
       "                                                Text   Score  \n",
       "0  ['A field trip or excursion is a journey by a ...  0.9837  \n",
       "1  [\"Education in emergencies and conflict areas ... -0.9356  \n",
       "2  ['Ability grouping is the educational practice...  0.9931  \n",
       "3  ['Classwide Peer Tutoring (CWPT) is a variatio...  0.9960  \n",
       "4  ['Flexible learning is a principle of practice...  0.7579  "
      ]
     },
     "execution_count": 2,
     "metadata": {},
     "output_type": "execute_result"
    }
   ],
   "source": [
    "df = pd.read_csv('./data/dataset_sentiment.csv')\n",
    "df = df[['Page', 'Category', 'Links', 'Text', 'Score']]\n",
    "\n",
    "df.head()"
   ]
  },
  {
   "cell_type": "code",
   "execution_count": 3,
   "metadata": {},
   "outputs": [
    {
     "data": {
      "text/plain": [
       "(14928, 5)"
      ]
     },
     "execution_count": 3,
     "metadata": {},
     "output_type": "execute_result"
    }
   ],
   "source": [
    "df.shape"
   ]
  },
  {
   "cell_type": "code",
   "execution_count": 4,
   "metadata": {},
   "outputs": [
    {
     "name": "stdout",
     "output_type": "stream",
     "text": [
      "2138\n",
      "1805\n",
      "341\n",
      "503\n"
     ]
    }
   ],
   "source": [
    "# Number of links\n",
    "\n",
    "print(len(df.iloc[0,2]))\n",
    "print(len(df.iloc[1,2]))\n",
    "print(len(df.iloc[2,2]))\n",
    "print(len(df.iloc[3,2]))"
   ]
  },
  {
   "cell_type": "code",
   "execution_count": 5,
   "metadata": {},
   "outputs": [
    {
     "data": {
      "text/html": [
       "<div>\n",
       "<style scoped>\n",
       "    .dataframe tbody tr th:only-of-type {\n",
       "        vertical-align: middle;\n",
       "    }\n",
       "\n",
       "    .dataframe tbody tr th {\n",
       "        vertical-align: top;\n",
       "    }\n",
       "\n",
       "    .dataframe thead th {\n",
       "        text-align: right;\n",
       "    }\n",
       "</style>\n",
       "<table border=\"1\" class=\"dataframe\">\n",
       "  <thead>\n",
       "    <tr style=\"text-align: right;\">\n",
       "      <th></th>\n",
       "      <th>Page</th>\n",
       "    </tr>\n",
       "    <tr>\n",
       "      <th>Category</th>\n",
       "      <th></th>\n",
       "    </tr>\n",
       "  </thead>\n",
       "  <tbody>\n",
       "    <tr>\n",
       "      <th>Government</th>\n",
       "      <td>2573</td>\n",
       "    </tr>\n",
       "    <tr>\n",
       "      <th>Education</th>\n",
       "      <td>2327</td>\n",
       "    </tr>\n",
       "    <tr>\n",
       "      <th>Military</th>\n",
       "      <td>1597</td>\n",
       "    </tr>\n",
       "    <tr>\n",
       "      <th>Politics</th>\n",
       "      <td>1273</td>\n",
       "    </tr>\n",
       "    <tr>\n",
       "      <th>Crime</th>\n",
       "      <td>1157</td>\n",
       "    </tr>\n",
       "    <tr>\n",
       "      <th>Finance</th>\n",
       "      <td>1157</td>\n",
       "    </tr>\n",
       "    <tr>\n",
       "      <th>Mass media</th>\n",
       "      <td>1109</td>\n",
       "    </tr>\n",
       "    <tr>\n",
       "      <th>Family</th>\n",
       "      <td>835</td>\n",
       "    </tr>\n",
       "    <tr>\n",
       "      <th>Peace</th>\n",
       "      <td>816</td>\n",
       "    </tr>\n",
       "    <tr>\n",
       "      <th>Activism</th>\n",
       "      <td>582</td>\n",
       "    </tr>\n",
       "    <tr>\n",
       "      <th>Rights</th>\n",
       "      <td>461</td>\n",
       "    </tr>\n",
       "    <tr>\n",
       "      <th>Globalization</th>\n",
       "      <td>416</td>\n",
       "    </tr>\n",
       "    <tr>\n",
       "      <th>War</th>\n",
       "      <td>411</td>\n",
       "    </tr>\n",
       "    <tr>\n",
       "      <th>Ethnic groups</th>\n",
       "      <td>214</td>\n",
       "    </tr>\n",
       "  </tbody>\n",
       "</table>\n",
       "</div>"
      ],
      "text/plain": [
       "               Page\n",
       "Category           \n",
       "Government     2573\n",
       "Education      2327\n",
       "Military       1597\n",
       "Politics       1273\n",
       "Crime          1157\n",
       "Finance        1157\n",
       "Mass media     1109\n",
       "Family          835\n",
       "Peace           816\n",
       "Activism        582\n",
       "Rights          461\n",
       "Globalization   416\n",
       "War             411\n",
       "Ethnic groups   214"
      ]
     },
     "execution_count": 5,
     "metadata": {},
     "output_type": "execute_result"
    }
   ],
   "source": [
    "# Pages per category\n",
    "\n",
    "count = df.groupby(['Category']).count()\n",
    "count = count.iloc[:,:1]\n",
    "count.sort_values('Page', ascending=False)"
   ]
  },
  {
   "cell_type": "code",
   "execution_count": 24,
   "metadata": {},
   "outputs": [
    {
     "data": {
      "text/plain": [
       "Text(0.5, 1.0, 'Number of pages per category')"
      ]
     },
     "execution_count": 24,
     "metadata": {},
     "output_type": "execute_result"
    },
    {
     "data": {
      "image/png": "[encoded data removed]",
      "text/plain": [
       "<Figure size 700x400 with 1 Axes>"
      ]
     },
     "metadata": {},
     "output_type": "display_data"
    }
   ],
   "source": [
    "# Plotting number of pages in each category\n",
    "\n",
    "plt.figure(figsize=(7,4))\n",
    "ax = sns.countplot(x=df['Category'],data=df)\n",
    "ax.bar_label(ax.containers[0])\n",
    "plt.xticks(rotation=65)\n",
    "plt.title('Number of pages per category')"
   ]
  },
  {
   "cell_type": "code",
   "execution_count": 7,
   "metadata": {},
   "outputs": [
    {
     "data": {
      "text/plain": [
       "Text(0.5, 1.0, 'Distribution of Sentiment score')"
      ]
     },
     "execution_count": 7,
     "metadata": {},
     "output_type": "execute_result"
    },
    {
     "data": {
      "image/png": "[encoded data removed]",
      "text/plain": [
       "<Figure size 1000x300 with 1 Axes>"
      ]
     },
     "metadata": {},
     "output_type": "display_data"
    }
   ],
   "source": [
    "# Plotting scores\n",
    "\n",
    "plt.figure(figsize=(10,3))\n",
    "sns.histplot(x=df['Score'],data=df)\n",
    "plt.title('Distribution of Sentiment score')"
   ]
  },
  {
   "cell_type": "code",
   "execution_count": 8,
   "metadata": {},
   "outputs": [
    {
     "name": "stderr",
     "output_type": "stream",
     "text": [
      "/var/folders/kj/2bfwcpp56ljb52n904gv1_700000gn/T/ipykernel_3137/3102114874.py:3: FutureWarning: The default value of numeric_only in DataFrameGroupBy.mean is deprecated. In a future version, numeric_only will default to False. Either specify numeric_only or select only columns which should be valid for the function.\n",
      "  df.groupby(['Category']).mean()\n"
     ]
    },
    {
     "data": {
      "text/html": [
       "<div>\n",
       "<style scoped>\n",
       "    .dataframe tbody tr th:only-of-type {\n",
       "        vertical-align: middle;\n",
       "    }\n",
       "\n",
       "    .dataframe tbody tr th {\n",
       "        vertical-align: top;\n",
       "    }\n",
       "\n",
       "    .dataframe thead th {\n",
       "        text-align: right;\n",
       "    }\n",
       "</style>\n",
       "<table border=\"1\" class=\"dataframe\">\n",
       "  <thead>\n",
       "    <tr style=\"text-align: right;\">\n",
       "      <th></th>\n",
       "      <th>Score</th>\n",
       "    </tr>\n",
       "    <tr>\n",
       "      <th>Category</th>\n",
       "      <th></th>\n",
       "    </tr>\n",
       "  </thead>\n",
       "  <tbody>\n",
       "    <tr>\n",
       "      <th>Activism</th>\n",
       "      <td>0.393143</td>\n",
       "    </tr>\n",
       "    <tr>\n",
       "      <th>Crime</th>\n",
       "      <td>-0.604803</td>\n",
       "    </tr>\n",
       "    <tr>\n",
       "      <th>Education</th>\n",
       "      <td>0.653109</td>\n",
       "    </tr>\n",
       "    <tr>\n",
       "      <th>Ethnic groups</th>\n",
       "      <td>0.248750</td>\n",
       "    </tr>\n",
       "    <tr>\n",
       "      <th>Family</th>\n",
       "      <td>0.246284</td>\n",
       "    </tr>\n",
       "    <tr>\n",
       "      <th>Finance</th>\n",
       "      <td>0.542651</td>\n",
       "    </tr>\n",
       "    <tr>\n",
       "      <th>Globalization</th>\n",
       "      <td>0.495288</td>\n",
       "    </tr>\n",
       "    <tr>\n",
       "      <th>Government</th>\n",
       "      <td>0.479091</td>\n",
       "    </tr>\n",
       "    <tr>\n",
       "      <th>Mass media</th>\n",
       "      <td>0.563700</td>\n",
       "    </tr>\n",
       "    <tr>\n",
       "      <th>Military</th>\n",
       "      <td>-0.125316</td>\n",
       "    </tr>\n",
       "    <tr>\n",
       "      <th>Peace</th>\n",
       "      <td>0.423466</td>\n",
       "    </tr>\n",
       "    <tr>\n",
       "      <th>Politics</th>\n",
       "      <td>0.418851</td>\n",
       "    </tr>\n",
       "    <tr>\n",
       "      <th>Rights</th>\n",
       "      <td>0.151011</td>\n",
       "    </tr>\n",
       "    <tr>\n",
       "      <th>War</th>\n",
       "      <td>-0.575287</td>\n",
       "    </tr>\n",
       "  </tbody>\n",
       "</table>\n",
       "</div>"
      ],
      "text/plain": [
       "                  Score\n",
       "Category               \n",
       "Activism       0.393143\n",
       "Crime         -0.604803\n",
       "Education      0.653109\n",
       "Ethnic groups  0.248750\n",
       "Family         0.246284\n",
       "Finance        0.542651\n",
       "Globalization  0.495288\n",
       "Government     0.479091\n",
       "Mass media     0.563700\n",
       "Military      -0.125316\n",
       "Peace          0.423466\n",
       "Politics       0.418851\n",
       "Rights         0.151011\n",
       "War           -0.575287"
      ]
     },
     "execution_count": 8,
     "metadata": {},
     "output_type": "execute_result"
    }
   ],
   "source": [
    "# Scores per category\n",
    "\n",
    "df.groupby(['Category']).mean()"
   ]
  },
  {
   "cell_type": "code",
   "execution_count": null,
   "metadata": {},
   "outputs": [],
   "source": []
  }
 ],
 "metadata": {
  "kernelspec": {
   "display_name": "base",
   "language": "python",
   "name": "python3"
  },
  "language_info": {
   "codemirror_mode": {
    "name": "ipython",
    "version": 3
   },
   "file_extension": ".py",
   "mimetype": "text/x-python",
   "name": "python",
   "nbconvert_exporter": "python",
   "pygments_lexer": "ipython3",
   "version": "3.9.12"
  },
  "orig_nbformat": 4
 },
 "nbformat": 4,
 "nbformat_minor": 2
}
